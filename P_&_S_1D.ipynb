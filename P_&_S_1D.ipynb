{
  "nbformat": 4,
  "nbformat_minor": 0,
  "metadata": {
    "colab": {
      "name": "P & S 1D.ipynb",
      "provenance": []
    },
    "kernelspec": {
      "name": "python3",
      "display_name": "Python 3"
    }
  },
  "cells": [
    {
      "cell_type": "code",
      "metadata": {
        "id": "QYlAs3UyBW14"
      },
      "source": [
        "import numpy as np\n",
        "import seaborn as sb\n",
        "im"
      ],
      "execution_count": null,
      "outputs": []
    },
    {
      "cell_type": "code",
      "metadata": {
        "colab": {
          "base_uri": "https://localhost:8080/",
          "height": 283
        },
        "id": "mFCTU7dYCqlM",
        "outputId": "84aeb9de-92c4-4095-ca4b-04314170b9bb"
      },
      "source": [
        "# randomly generate the dataset \n",
        "\n",
        "from sklearn.datasets import make_regression\n",
        "from matplotlib import pyplot\n",
        "from pandas import DataFrame\n",
        "# generate 2d classification dataset\n",
        "X, y = make_blobs(n_samples=100, centers=4, n_features=3)\n",
        "# scatter plot, dots colored by class value\n",
        "df = DataFrame(dict(x=X[:,1], y=X[:,2], label=y))\n",
        "colors = {0:'red', 1:'blue', 2:'green',3:'orange'}\n",
        "fig, ax = pyplot.subplots()\n",
        "grouped = df.groupby('label')\n",
        "for key, group in grouped:\n",
        "    group.plot(ax=ax, kind='scatter', x='x', y='y', label=key, color=colors[key])\n",
        "pyplot.show()\n"
      ],
      "execution_count": null,
      "outputs": [
        {
          "output_type": "display_data",
          "data": {
            "image/png": "[encoded data removed]",
            "text/plain": [
              "<Figure size 432x288 with 1 Axes>"
            ]
          },
          "metadata": {
            "tags": [],
            "needs_background": "light"
          }
        }
      ]
    },
    {
      "cell_type": "code",
      "metadata": {
        "colab": {
          "base_uri": "https://localhost:8080/"
        },
        "id": "FEGymv8ICOd9",
        "outputId": "04cade3e-d8b0-4e70-9c91-2e13f39fae81"
      },
      "source": [
        "from sklearn.datasets import make_regression\n",
        "from matplotlib import pyplot\n",
        "\n",
        "bus_ride_time = np.array([66,70,80,120,135,175,200,75,92,94,100,140.0,40.0,45.0,67.0,68.0,69.2,90.0,92.0,95.0])\n",
        "train_ride_time = np.array([51,75,80,50,140,90,50.0,79,120,32.0,200.0,45.0,30.0,50.0,82.0,70.0, 68.0,85.0,92.0,67.0])\n",
        "dist_travelled = np.array([28.3,31.7,28.0,21.9,40.0,42,50,32.3,35.0,22.0,25.4,57.9,38.7,21.9,28.6,23.5,22.6,45.0,34.0,42.0])\n",
        "print(len(dist_travelled))\n",
        "print(train_ride_time[len(dist_travelled)-1])\n",
        "print(bus_ride_time[len(dist_travelled)-1])\n",
        "\n"
      ],
      "execution_count": null,
      "outputs": [
        {
          "output_type": "stream",
          "text": [
            "20\n",
            "67.0\n",
            "95.0\n"
          ],
          "name": "stdout"
        }
      ]
    },
    {
      "cell_type": "code",
      "metadata": {
        "colab": {
          "base_uri": "https://localhost:8080/",
          "height": 279
        },
        "id": "Rc3w8eFKGmKZ",
        "outputId": "e5b0f2ee-c618-40fa-f1ae-36de7f416daf"
      },
      "source": [
        "#plot the data for X Y\n",
        "pyplot.xlabel(\"train ride (min)\")\n",
        "pyplot.ylabel(\"bus ride (min)\")\n",
        "pyplot.plot(train_ride_time,bus_ride_time,'o',color = 'red')\n",
        "pyplot.show()"
      ],
      "execution_count": null,
      "outputs": [
        {
          "output_type": "display_data",
          "data": {
            "image/png": "[encoded data removed]",
            "text/plain": [
              "<Figure size 432x288 with 1 Axes>"
            ]
          },
          "metadata": {
            "tags": [],
            "needs_background": "light"
          }
        }
      ]
    },
    {
      "cell_type": "code",
      "metadata": {
        "colab": {
          "base_uri": "https://localhost:8080/",
          "height": 280
        },
        "id": "OWNr7N_iMRMU",
        "outputId": "83a64b81-2cba-4345-830d-73f5f085298e"
      },
      "source": [
        "#plot the data for Y Z \n",
        "pyplot.xlabel(\"distance_travelled (km)\")\n",
        "pyplot.ylabel(\"train ride (min)\")\n",
        "pyplot.plot(dist_travelled,train_ride_time,'o',color = 'red')\n",
        "pyplot.show()"
      ],
      "execution_count": null,
      "outputs": [
        {
          "output_type": "display_data",
          "data": {
            "image/png": "[encoded data removed]",
            "text/plain": [
              "<Figure size 432x288 with 1 Axes>"
            ]
          },
          "metadata": {
            "tags": [],
            "needs_background": "light"
          }
        }
      ]
    },
    {
      "cell_type": "code",
      "metadata": {
        "id": "elLA9h-2NHpn"
      },
      "source": [
        "#plot the data for X Z\n",
        "pyplot.xlabel(\"Time taken on bus ride (min)\")\n",
        "pyplot.ylabel(\" ()\")\n",
        "pyplot.plot(dist_travelled,bus_ride_time,'o',color = 'red')\n",
        "pyplot.show()"
      ],
      "execution_count": null,
      "outputs": []
    }
  ]
}